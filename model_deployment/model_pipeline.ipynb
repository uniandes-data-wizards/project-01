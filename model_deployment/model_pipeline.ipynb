{
 "cells": [
  {
   "attachments": {},
   "cell_type": "markdown",
   "metadata": {},
   "source": [
    "# Construcción del modelo y persistencia del modelo "
   ]
  },
  {
   "cell_type": "code",
   "execution_count": 2,
   "metadata": {},
   "outputs": [
    {
     "name": "stdout",
     "output_type": "stream",
     "text": [
      "Precision:  0.8014705882352942\n",
      "Recall:  0.872\n",
      "F1:  0.8352490421455938\n"
     ]
    },
    {
     "data": {
      "text/plain": [
       "['assets/modelo.joblib']"
      ]
     },
     "execution_count": 2,
     "metadata": {},
     "output_type": "execute_result"
    }
   ],
   "source": [
    "import pandas as pd\n",
    "import numpy as np\n",
    "import re\n",
    "\n",
    "from sklearn.model_selection import train_test_split\n",
    "from sklearn.pipeline import Pipeline\n",
    "from sklearn.compose import ColumnTransformer\n",
    "from sklearn.feature_extraction.text import TfidfVectorizer\n",
    "from sklearn.svm import SVC\n",
    "from sklearn.metrics import precision_score, recall_score, f1_score\n",
    "from sklearn.base import BaseEstimator, TransformerMixin\n",
    "\n",
    "from nltk.corpus import stopwords\n",
    "from nltk.tokenize import word_tokenize\n",
    "from nltk.stem import LancasterStemmer, WordNetLemmatizer\n",
    "\n",
    "from preprocessor import Preprocessor\n",
    "\n",
    "from joblib import dump\n",
    "\n",
    "# read the data\n",
    "data=pd.read_csv('data/MovieReviews.csv', sep=',', encoding = 'utf-8')\n",
    "data_t=data\n",
    "\n",
    "# define functions for preprocessing\n",
    "stop_words = set(stopwords.words('spanish'))\n",
    "\n",
    "\n",
    "tfidf_vectorizer = TfidfVectorizer(tokenizer=word_tokenize, stop_words=None)\n",
    "\n",
    "X_train, X_test, y_train, y_test = train_test_split(data['review_es'], data['sentimiento'], test_size=0.2, random_state=42)\n",
    "\n",
    "preprocessor = Preprocessor()\n",
    "\n",
    "# create a pipeline with the preprocessor, vectorizer, and the model\n",
    "pipeline = Pipeline([\n",
    "    ('preprocessor', preprocessor),\n",
    "    ('tfidf', tfidf_vectorizer),\n",
    "    ('model', SVC())\n",
    "])\n",
    "\n",
    "pipeline.set_params(model__kernel='linear', model__C=1)\n",
    "\n",
    "# train the model\n",
    "pipeline.fit(X_train, y_train)\n",
    "y_pred = pipeline.predict(X_test)\n",
    "\n",
    "# evaluate the model\n",
    "print('Precision: ', precision_score(y_test, y_pred, pos_label='positivo'))\n",
    "print('Recall: ', recall_score(y_test, y_pred, pos_label='positivo'))\n",
    "print('F1: ', f1_score(y_test, y_pred, pos_label='positivo'))\n",
    "\n",
    "# save the model\n",
    "dump(pipeline, 'assets/modelo.joblib')"
   ]
  },
  {
   "cell_type": "code",
   "execution_count": 3,
   "metadata": {},
   "outputs": [],
   "source": [
    "# export MovieReviews.csv preprocessed data to csv\n",
    "data_t['review_es'] = pipeline.named_steps['preprocessor'].transform(data_t['review_es'])\n",
    "data_t.to_csv('data/MovieReviews_preprocessed.csv', index=False)"
   ]
  }
 ],
 "metadata": {
  "kernelspec": {
   "display_name": "Python 3",
   "language": "python",
   "name": "python3"
  },
  "language_info": {
   "codemirror_mode": {
    "name": "ipython",
    "version": 3
   },
   "file_extension": ".py",
   "mimetype": "text/x-python",
   "name": "python",
   "nbconvert_exporter": "python",
   "pygments_lexer": "ipython3",
   "version": "3.10.11"
  },
  "orig_nbformat": 4
 },
 "nbformat": 4,
 "nbformat_minor": 2
}
